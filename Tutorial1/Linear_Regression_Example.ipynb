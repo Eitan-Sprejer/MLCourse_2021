{
 "cells": [
  {
   "cell_type": "markdown",
   "metadata": {
    "colab_type": "text",
    "id": "view-in-github"
   },
   "source": [
    "<a href=\"https://colab.research.google.com/github/WeizmannML/course2020/blob/master/Tutorial1/Linear_Regression_Example.ipynb\" target=\"_parent\"><img src=\"https://colab.research.google.com/assets/colab-badge.svg\" alt=\"Open In Colab\"/></a>"
   ]
  },
  {
   "cell_type": "code",
   "execution_count": 1,
   "metadata": {
    "colab": {},
    "colab_type": "code",
    "id": "wGhfT4-hJ34u"
   },
   "outputs": [],
   "source": [
    "import numpy as np\n",
    "from sklearn.datasets import load_boston\n",
    "import matplotlib.pyplot as plt\n",
    "\n",
    "from sklearn.model_selection import train_test_split"
   ]
  },
  {
   "cell_type": "code",
   "execution_count": 2,
   "metadata": {
    "colab": {
     "base_uri": "https://localhost:8080/",
     "height": 52
    },
    "colab_type": "code",
    "id": "hQ54RIGH7B_j",
    "outputId": "56e3b138-55ef-4f48-fcbb-b2431d8f6f79"
   },
   "outputs": [],
   "source": [
    "import matplotlib.pyplot as plt\n",
    "import pandas as pd\n",
    "import seaborn as sn\n",
    "\n",
    "plt.rcParams[\"figure.figsize\"] = (10,10)\n"
   ]
  },
  {
   "cell_type": "markdown",
   "metadata": {
    "colab_type": "text",
    "id": "l5Nnl_GWJ34y"
   },
   "source": [
    "### Load the dataset"
   ]
  },
  {
   "cell_type": "markdown",
   "metadata": {
    "colab_type": "text",
    "id": "dX1vzNYL8kKT"
   },
   "source": [
    "Lets make a dataset where $y = x +  \\frac{3}{10} sin(x) + \n",
    "\\frac{1}{10} \\Big( log(x) \\Big)^2 + \\epsilon$,  where $\\epsilon$ is a random number"
   ]
  },
  {
   "cell_type": "code",
   "execution_count": null,
   "metadata": {
    "colab": {},
    "colab_type": "code",
    "id": "0b1ISwAlJ34z"
   },
   "outputs": [],
   "source": []
  },
  {
   "cell_type": "code",
   "execution_count": 3,
   "metadata": {
    "colab": {},
    "colab_type": "code",
    "id": "Qmn1gBK7J349"
   },
   "outputs": [],
   "source": [
    "N_data = 5000\n",
    "\n",
    "data_x = np.linspace(1.0, 10.0, N_data)[:, np.newaxis]\n",
    "data_y = data_x + 0.2*np.random.randn(N_data,1) + 0.3*np.sin(data_x) + 1e-1  * np.log( data_x ) **2\n",
    "#data_y = data_x + 0.1*np.random.randn(N_data,1) "
   ]
  },
  {
   "cell_type": "code",
   "execution_count": 4,
   "metadata": {
    "colab": {
     "base_uri": "https://localhost:8080/",
     "height": 35
    },
    "colab_type": "code",
    "id": "AH3f5Jab6jDg",
    "outputId": "ffa7346f-c126-496a-aaa8-ec32408fa03a"
   },
   "outputs": [
    {
     "data": {
      "text/plain": [
       "((5000, 1), (5000, 1))"
      ]
     },
     "execution_count": 4,
     "metadata": {},
     "output_type": "execute_result"
    }
   ],
   "source": [
    "data_x.shape, data_y.shape"
   ]
  },
  {
   "cell_type": "code",
   "execution_count": 5,
   "metadata": {
    "colab": {
     "base_uri": "https://localhost:8080/",
     "height": 623
    },
    "colab_type": "code",
    "id": "Y3H21tCd6occ",
    "outputId": "d77bbf08-c71f-4d07-a15c-0c2e2e1c4e18"
   },
   "outputs": [
    {
     "data": {
      "text/plain": [
       "Text(0, 0.5, 'Y')"
      ]
     },
     "execution_count": 5,
     "metadata": {},
     "output_type": "execute_result"
    },
    {
     "data": {
      "image/png": "[encoded data removed]",
      "text/plain": [
       "<Figure size 720x720 with 1 Axes>"
      ]
     },
     "metadata": {
      "needs_background": "light"
     },
     "output_type": "display_data"
    }
   ],
   "source": [
    "plt.plot( data_x.flatten(), data_y.flatten()  )\n",
    "plt.xlabel('X')\n",
    "plt.ylabel('Y')"
   ]
  },
  {
   "cell_type": "code",
   "execution_count": null,
   "metadata": {
    "colab": {},
    "colab_type": "code",
    "id": "rfClhNICJ35A"
   },
   "outputs": [],
   "source": []
  },
  {
   "cell_type": "markdown",
   "metadata": {
    "colab_type": "text",
    "id": "wh4mQnHfUIEC"
   },
   "source": [
    "### Make a train-test split of the available dataset"
   ]
  },
  {
   "cell_type": "code",
   "execution_count": 6,
   "metadata": {
    "colab": {},
    "colab_type": "code",
    "id": "wLx8CIfjT5BO"
   },
   "outputs": [],
   "source": [
    "X_train, X_test, y_train, y_test = train_test_split(data_x, data_y, test_size=0.2, random_state=42)"
   ]
  },
  {
   "cell_type": "code",
   "execution_count": 7,
   "metadata": {
    "colab": {
     "base_uri": "https://localhost:8080/",
     "height": 35
    },
    "colab_type": "code",
    "id": "1Z1kanVfrcZz",
    "outputId": "4e5b6f25-86dd-4799-efb9-8ef5e7ab7e43"
   },
   "outputs": [
    {
     "data": {
      "text/plain": [
       "((4000, 1), (4000, 1))"
      ]
     },
     "execution_count": 7,
     "metadata": {},
     "output_type": "execute_result"
    }
   ],
   "source": [
    "X_train.shape, y_train.shape"
   ]
  },
  {
   "cell_type": "markdown",
   "metadata": {
    "colab_type": "text",
    "id": "SRZs8EJlV5C7"
   },
   "source": [
    "Define the Loss function \\\\\n",
    "$L = \\frac{1}{2n} \\sum_{i=1}^n \\Big( y_i^{target} - y_i^{pred} \\Big)^2$"
   ]
  },
  {
   "cell_type": "code",
   "execution_count": 8,
   "metadata": {
    "colab": {},
    "colab_type": "code",
    "id": "ui7xuvZwJ35H"
   },
   "outputs": [],
   "source": [
    "# --- declare the L2 distance function between target & prefiction --- #\n",
    "# def compute_Loss(y_tar, y_pred):\n",
    "\n",
    "#     return 0.5 * np.mean( pow((y_pred- y_tar),2) )"
   ]
  },
  {
   "cell_type": "code",
   "execution_count": null,
   "metadata": {
    "colab": {},
    "colab_type": "code",
    "id": "z2ShSXoPNtzQ"
   },
   "outputs": [],
   "source": []
  },
  {
   "cell_type": "markdown",
   "metadata": {
    "colab_type": "text",
    "id": "XFP-juUQWzLZ"
   },
   "source": [
    "For a liner regression $y = Wx + b$ \\\\\n",
    "So, $\\frac{\\partial L}{\\partial W} = \\frac{1}{n} \\sum_{i=1}^n \\Big( y_i - y_i^{pred} \\Big).x_i$ \\\\\n",
    "$\\frac{\\partial L}{\\partial b} = \\frac{1}{n} \\sum_{i=1}^n \\Big( y_i - y_i^{pred} \\Big)$"
   ]
  },
  {
   "cell_type": "markdown",
   "metadata": {
    "colab_type": "text",
    "id": "Mc2VFsArYZmv"
   },
   "source": [
    "The weights are updated following the rule : \\\\\n",
    "$W = W - \\eta \\frac{\\partial L}{\\partial W} $ \\\\\n",
    "$b = b - \\eta \\frac{\\partial L}{\\partial b} $ \\\\\n",
    "where $\\eta$ is the learning rate"
   ]
  },
  {
   "cell_type": "code",
   "execution_count": 9,
   "metadata": {
    "colab": {},
    "colab_type": "code",
    "id": "6t-uFAlQzHBh"
   },
   "outputs": [],
   "source": [
    "tolerance = 1e-7 # numerical value to check if the gradient vanishes"
   ]
  },
  {
   "cell_type": "code",
   "execution_count": 10,
   "metadata": {
    "colab": {},
    "colab_type": "code",
    "id": "43T8xz2xJ35K"
   },
   "outputs": [],
   "source": [
    "class LinearRegression(object):\n",
    "    def __init__(self, X, y, lr=0.001):\n",
    "\n",
    "        self.lr = lr\n",
    "        self.n_samples = len(y)\n",
    "        self.n_features = X.shape[1]\n",
    "        self.X = X\n",
    "        self.y = y\n",
    "        self.W = np.ones( (self.n_features ,1) )\n",
    "        self.b = np.zeros( (1,1) )\n",
    "\n",
    "    def fit(self, n_iter=1500): \n",
    "\n",
    "        for i in range(n_iter):\n",
    "\n",
    "            y_pred = ( self.X ).dot( self.W)  + self.b\n",
    "\n",
    "            loss = self.compute_Loss( self.y, y_pred )\n",
    "\n",
    "            grad_weight =np.dot((y_pred-self.y).T,X_train)/self.n_samples\n",
    "\n",
    "            grad_bias = np.mean(y_pred- self.y)\n",
    "\n",
    "            if( abs( np.sum(grad_weight) ) < tolerance and abs(grad_bias) < tolerance ) : break\n",
    "\n",
    "            self.W = self.W - self.lr * grad_weight.T\n",
    "            self.b = self.b - self.lr * grad_bias\n",
    "\n",
    "\n",
    "    def predict(self, X) : \n",
    "\n",
    "        y_pred = ( X ).dot( self.W)  + self.b\n",
    "        return y_pred\n",
    "\n",
    "    def params(self) : \n",
    "\n",
    "        weight_dict = {}\n",
    "        weight_dict['weight'] = self.W\n",
    "        weight_dict['bias'] = self.b\n",
    "\n",
    "        return weight_dict\n",
    "    \n",
    "    # -- the L2 loss as a member function -- #\n",
    "    def compute_Loss(self, y_tar, y_pred):\n",
    "\n",
    "        return 0.5 * np.mean( pow((y_pred- y_tar),2) )"
   ]
  },
  {
   "cell_type": "code",
   "execution_count": 11,
   "metadata": {
    "colab": {},
    "colab_type": "code",
    "id": "OxYeU2eMFEyL"
   },
   "outputs": [],
   "source": [
    "#del learn"
   ]
  },
  {
   "cell_type": "code",
   "execution_count": 24,
   "metadata": {
    "colab": {},
    "colab_type": "code",
    "id": "bjhNyV4d0pcm"
   },
   "outputs": [],
   "source": [
    "learn = LinearRegression(X_train, y_train, lr=1e-3)"
   ]
  },
  {
   "cell_type": "code",
   "execution_count": 25,
   "metadata": {
    "colab": {},
    "colab_type": "code",
    "id": "Bh_8ERrX02df"
   },
   "outputs": [],
   "source": [
    "learn.fit(n_iter=2000)"
   ]
  },
  {
   "cell_type": "code",
   "execution_count": 26,
   "metadata": {
    "colab": {},
    "colab_type": "code",
    "id": "vHCS3DIp2345"
   },
   "outputs": [],
   "source": [
    "y_pred = learn.predict( X_test)"
   ]
  },
  {
   "cell_type": "code",
   "execution_count": 27,
   "metadata": {
    "colab": {
     "base_uri": "https://localhost:8080/",
     "height": 35
    },
    "colab_type": "code",
    "id": "DJ2sRPt03Bm_",
    "outputId": "3a2ff933-5a69-417a-9be0-b6b001778c63"
   },
   "outputs": [
    {
     "data": {
      "text/plain": [
       "((1000, 1), (1000, 1))"
      ]
     },
     "execution_count": 27,
     "metadata": {},
     "output_type": "execute_result"
    }
   ],
   "source": [
    "y_pred.shape, y_test.shape"
   ]
  },
  {
   "cell_type": "code",
   "execution_count": 28,
   "metadata": {
    "colab": {
     "base_uri": "https://localhost:8080/",
     "height": 623
    },
    "colab_type": "code",
    "id": "Dqk0U-8i3Hr9",
    "outputId": "64ea32d9-25f0-49b2-8902-51967084e74a"
   },
   "outputs": [
    {
     "data": {
      "text/plain": [
       "[<matplotlib.lines.Line2D at 0x7f929a38b4c0>]"
      ]
     },
     "execution_count": 28,
     "metadata": {},
     "output_type": "execute_result"
    },
    {
     "data": {
      "image/png": "[encoded data removed]",
      "text/plain": [
       "<Figure size 720x720 with 1 Axes>"
      ]
     },
     "metadata": {
      "needs_background": "light"
     },
     "output_type": "display_data"
    }
   ],
   "source": [
    "plt.scatter( y_test.flatten(), y_pred.flatten()  )\n",
    "plt.xlabel('Target')\n",
    "plt.ylabel('Prediction')\n",
    "\n",
    "plt.plot( np.linspace(1,12, 1000), np.linspace(1,12, 1000), color='r', linewidth=1.5 )"
   ]
  },
  {
   "cell_type": "code",
   "execution_count": 17,
   "metadata": {
    "colab": {
     "base_uri": "https://localhost:8080/",
     "height": 35
    },
    "colab_type": "code",
    "id": "obNqI0G5V_sA",
    "outputId": "361f727c-e4be-4a1e-adf3-fb994dba4df4"
   },
   "outputs": [
    {
     "data": {
      "text/plain": [
       "{'weight': array([[1.05715819]]), 'bias': array([[0.00806135]])}"
      ]
     },
     "execution_count": 17,
     "metadata": {},
     "output_type": "execute_result"
    }
   ],
   "source": [
    "learn.params()"
   ]
  },
  {
   "cell_type": "code",
   "execution_count": null,
   "metadata": {
    "colab": {
     "base_uri": "https://localhost:8080/",
     "height": 34
    },
    "colab_type": "code",
    "id": "9lQFV-u5UqKv",
    "outputId": "731c48b9-c1a3-4214-f774-a91034aac336"
   },
   "outputs": [],
   "source": []
  },
  {
   "cell_type": "code",
   "execution_count": null,
   "metadata": {
    "colab": {},
    "colab_type": "code",
    "id": "CVXII3kSZc41"
   },
   "outputs": [],
   "source": []
  }
 ],
 "metadata": {
  "colab": {
   "include_colab_link": true,
   "name": "Linear_Regression_Example.ipynb",
   "provenance": []
  },
  "kernelspec": {
   "display_name": "Python 3",
   "language": "python",
   "name": "python3"
  },
  "language_info": {
   "codemirror_mode": {
    "name": "ipython",
    "version": 3
   },
   "file_extension": ".py",
   "mimetype": "text/x-python",
   "name": "python",
   "nbconvert_exporter": "python",
   "pygments_lexer": "ipython3",
   "version": "3.8.5"
  }
 },
 "nbformat": 4,
 "nbformat_minor": 1
}
